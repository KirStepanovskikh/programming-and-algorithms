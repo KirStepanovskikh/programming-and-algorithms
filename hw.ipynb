{
  "nbformat": 4,
  "nbformat_minor": 0,
  "metadata": {
    "colab": {
      "name": "sketch",
      "provenance": [],
      "collapsed_sections": []
    },
    "kernelspec": {
      "name": "python3",
      "display_name": "Python 3"
    }
  },
  "cells": [
    {
      "cell_type": "code",
      "metadata": {
        "colab": {
          "base_uri": "https://localhost:8080/"
        },
        "id": "BqePUwI-O98o",
        "outputId": "67ed6716-cd30-4787-b4b2-59435d624f5d"
      },
      "source": [
        "!wget https://raw.githubusercontent.com/dhhse/fanfics4hack/main/data/FanFics_Metadata_full.json"
      ],
      "execution_count": 1,
      "outputs": [
        {
          "output_type": "stream",
          "text": [
            "--2021-03-09 14:06:17--  https://raw.githubusercontent.com/dhhse/fanfics4hack/main/data/FanFics_Metadata_full.json\n",
            "Resolving raw.githubusercontent.com (raw.githubusercontent.com)... 185.199.110.133, 185.199.108.133, 185.199.111.133, ...\n",
            "Connecting to raw.githubusercontent.com (raw.githubusercontent.com)|185.199.110.133|:443... connected.\n",
            "HTTP request sent, awaiting response... 200 OK\n",
            "Length: 40558938 (39M) [text/plain]\n",
            "Saving to: ‘FanFics_Metadata_full.json.1’\n",
            "\n",
            "FanFics_Metadata_fu 100%[===================>]  38.68M  53.0MB/s    in 0.7s    \n",
            "\n",
            "2021-03-09 14:06:18 (53.0 MB/s) - ‘FanFics_Metadata_full.json.1’ saved [40558938/40558938]\n",
            "\n"
          ],
          "name": "stdout"
        }
      ]
    },
    {
      "cell_type": "code",
      "metadata": {
        "colab": {
          "base_uri": "https://localhost:8080/"
        },
        "id": "wr7exO_le3yQ",
        "outputId": "8c9d9c04-7aed-4ee5-e176-f116a452c730"
      },
      "source": [
        "!wget http://rusvectores.org/static/models/rusvectores4/fasttext/araneum_none_fasttextcbow_300_5_2018.tgz"
      ],
      "execution_count": 15,
      "outputs": [
        {
          "output_type": "stream",
          "text": [
            "--2021-03-09 19:34:19--  http://rusvectores.org/static/models/rusvectores4/fasttext/araneum_none_fasttextcbow_300_5_2018.tgz\n",
            "Resolving rusvectores.org (rusvectores.org)... 116.203.104.23\n",
            "Connecting to rusvectores.org (rusvectores.org)|116.203.104.23|:80... connected.\n",
            "HTTP request sent, awaiting response... 200 OK\n",
            "Length: 2691248108 (2.5G) [application/x-gzip]\n",
            "Saving to: ‘araneum_none_fasttextcbow_300_5_2018.tgz’\n",
            "\n",
            "araneum_none_fastte 100%[===================>]   2.51G  10.7MB/s    in 4m 19s  \n",
            "\n",
            "2021-03-09 19:38:39 (9.91 MB/s) - ‘araneum_none_fasttextcbow_300_5_2018.tgz’ saved [2691248108/2691248108]\n",
            "\n"
          ],
          "name": "stdout"
        }
      ]
    },
    {
      "cell_type": "code",
      "metadata": {
        "colab": {
          "base_uri": "https://localhost:8080/"
        },
        "id": "PCqbrOQpgV-b",
        "outputId": "2a5deece-c666-49b6-9df7-635dbbc37421"
      },
      "source": [
        "!tar xzf araneum_none_fasttextcbow_300_5_2018.tgz"
      ],
      "execution_count": 18,
      "outputs": [
        {
          "output_type": "stream",
          "text": [
            "python3\n"
          ],
          "name": "stdout"
        }
      ]
    },
    {
      "cell_type": "code",
      "metadata": {
        "id": "_2pJ_y31PA5q"
      },
      "source": [
        "import numpy as np\r\n",
        "import pandas as pd\r\n",
        "from sklearn.feature_extraction.text import CountVectorizer, TfidfVectorizer\r\n",
        "from sklearn.preprocessing import OneHotEncoder\r\n",
        "\r\n",
        "from copy import deepcopy \r\n",
        "from typing import List, Tuple"
      ],
      "execution_count": 1,
      "outputs": []
    },
    {
      "cell_type": "code",
      "metadata": {
        "colab": {
          "base_uri": "https://localhost:8080/"
        },
        "id": "Q1vtsvLBPCkt",
        "outputId": "06b8c2dc-daa1-42cd-e752-0865a07df255"
      },
      "source": [
        "df = pd.read_json(\"FanFics_Metadata_full.json\")\r\n",
        "\r\n",
        "df.shape"
      ],
      "execution_count": 2,
      "outputs": [
        {
          "output_type": "execute_result",
          "data": {
            "text/plain": [
              "(19258, 25)"
            ]
          },
          "metadata": {
            "tags": []
          },
          "execution_count": 2
        }
      ]
    },
    {
      "cell_type": "code",
      "metadata": {
        "colab": {
          "base_uri": "https://localhost:8080/"
        },
        "id": "yvhP5jzXhIfK",
        "outputId": "01205d8c-9cd8-4d14-fb72-cd1c6d9efafa"
      },
      "source": [
        "# если пропущенных значений много -- дропаем колонку, иначе строку\r\n",
        "count_columns_null = df.isnull().sum(axis=0).to_dict()\r\n",
        "\r\n",
        "for column in count_columns_null:\r\n",
        "    if count_columns_null[column] > 1000:\r\n",
        "        df.drop(column, axis=1, inplace=True)\r\n",
        "\r\n",
        "df.dropna(inplace=True)\r\n",
        "df.shape"
      ],
      "execution_count": 3,
      "outputs": [
        {
          "output_type": "execute_result",
          "data": {
            "text/plain": [
              "(18804, 20)"
            ]
          },
          "metadata": {
            "tags": []
          },
          "execution_count": 3
        }
      ]
    },
    {
      "cell_type": "code",
      "metadata": {
        "colab": {
          "base_uri": "https://localhost:8080/"
        },
        "id": "nLbGSCMsoIUJ",
        "outputId": "4e0b2d1c-c56f-4ba2-8e11-73f3b2288f80"
      },
      "source": [
        "# оставляем колонки со строками и числами\r\n",
        "filtered_columns = []\r\n",
        "for column in df.columns:\r\n",
        "    if type(df[column][0]) not in [list, dict]:\r\n",
        "        filtered_columns.append(column)\r\n",
        "\r\n",
        "df = df[filtered_columns]\r\n",
        "\r\n",
        "df.shape"
      ],
      "execution_count": 4,
      "outputs": [
        {
          "output_type": "execute_result",
          "data": {
            "text/plain": [
              "(18804, 11)"
            ]
          },
          "metadata": {
            "tags": []
          },
          "execution_count": 4
        }
      ]
    },
    {
      "cell_type": "code",
      "metadata": {
        "colab": {
          "base_uri": "https://localhost:8080/",
          "height": 431
        },
        "id": "CA265jRlsdOV",
        "outputId": "fe939aee-94d5-437b-9525-80760ffb2430"
      },
      "source": [
        "df.head()"
      ],
      "execution_count": 5,
      "outputs": [
        {
          "output_type": "execute_result",
          "data": {
            "text/html": [
              "<div>\n",
              "<style scoped>\n",
              "    .dataframe tbody tr th:only-of-type {\n",
              "        vertical-align: middle;\n",
              "    }\n",
              "\n",
              "    .dataframe tbody tr th {\n",
              "        vertical-align: top;\n",
              "    }\n",
              "\n",
              "    .dataframe thead th {\n",
              "        text-align: right;\n",
              "    }\n",
              "</style>\n",
              "<table border=\"1\" class=\"dataframe\">\n",
              "  <thead>\n",
              "    <tr style=\"text-align: right;\">\n",
              "      <th></th>\n",
              "      <th>ID</th>\n",
              "      <th>Title</th>\n",
              "      <th>Views</th>\n",
              "      <th>Readers</th>\n",
              "      <th>Likes</th>\n",
              "      <th>Collections</th>\n",
              "      <th>Comments</th>\n",
              "      <th>Genre</th>\n",
              "      <th>Rating</th>\n",
              "      <th>Status</th>\n",
              "      <th>Description</th>\n",
              "    </tr>\n",
              "  </thead>\n",
              "  <tbody>\n",
              "    <tr>\n",
              "      <th>0</th>\n",
              "      <td>139006</td>\n",
              "      <td>The Secret Diary of Fleur Delacour, aged 16 34</td>\n",
              "      <td>8110.0</td>\n",
              "      <td>307.0</td>\n",
              "      <td>0.0</td>\n",
              "      <td>18.0</td>\n",
              "      <td>12.0</td>\n",
              "      <td>гет</td>\n",
              "      <td>PG-13</td>\n",
              "      <td>В процессе</td>\n",
              "      <td>Это своего рода эксперимент. Большинство людей...</td>\n",
              "    </tr>\n",
              "    <tr>\n",
              "      <th>1</th>\n",
              "      <td>137435</td>\n",
              "      <td>Рабочие будни Уолдена МакНейра, ликвидатора оп...</td>\n",
              "      <td>4331.0</td>\n",
              "      <td>509.0</td>\n",
              "      <td>2.0</td>\n",
              "      <td>38.0</td>\n",
              "      <td>157.0</td>\n",
              "      <td>джен</td>\n",
              "      <td>General</td>\n",
              "      <td>Закончен</td>\n",
              "      <td>В жизни ликвидатора опасных существ проблемы с...</td>\n",
              "    </tr>\n",
              "    <tr>\n",
              "      <th>2</th>\n",
              "      <td>2306</td>\n",
              "      <td>Яблоко Гесперид</td>\n",
              "      <td>77454.0</td>\n",
              "      <td>418.0</td>\n",
              "      <td>5.0</td>\n",
              "      <td>32.0</td>\n",
              "      <td>66.0</td>\n",
              "      <td>гет</td>\n",
              "      <td>R</td>\n",
              "      <td>Закончен</td>\n",
              "      <td>Министерство издает Закон о чистоте крови. Дра...</td>\n",
              "    </tr>\n",
              "    <tr>\n",
              "      <th>3</th>\n",
              "      <td>103183</td>\n",
              "      <td>Однажды в другой вселенной</td>\n",
              "      <td>7595.0</td>\n",
              "      <td>54.0</td>\n",
              "      <td>0.0</td>\n",
              "      <td>16.0</td>\n",
              "      <td>15.0</td>\n",
              "      <td>гет</td>\n",
              "      <td>R</td>\n",
              "      <td>Закончен</td>\n",
              "      <td>Сборник совершенно не связанных между собой за...</td>\n",
              "    </tr>\n",
              "    <tr>\n",
              "      <th>4</th>\n",
              "      <td>98951</td>\n",
              "      <td>Мыс альбатросов</td>\n",
              "      <td>53937.0</td>\n",
              "      <td>695.0</td>\n",
              "      <td>5.0</td>\n",
              "      <td>41.0</td>\n",
              "      <td>867.0</td>\n",
              "      <td>гет</td>\n",
              "      <td>R</td>\n",
              "      <td>В процессе</td>\n",
              "      <td>Иногда затишье перед бурей страшнее разыгравше...</td>\n",
              "    </tr>\n",
              "  </tbody>\n",
              "</table>\n",
              "</div>"
            ],
            "text/plain": [
              "       ID  ...                                        Description\n",
              "0  139006  ...  Это своего рода эксперимент. Большинство людей...\n",
              "1  137435  ...  В жизни ликвидатора опасных существ проблемы с...\n",
              "2    2306  ...  Министерство издает Закон о чистоте крови. Дра...\n",
              "3  103183  ...  Сборник совершенно не связанных между собой за...\n",
              "4   98951  ...  Иногда затишье перед бурей страшнее разыгравше...\n",
              "\n",
              "[5 rows x 11 columns]"
            ]
          },
          "metadata": {
            "tags": []
          },
          "execution_count": 5
        }
      ]
    },
    {
      "cell_type": "markdown",
      "metadata": {
        "id": "ONz-D0gGccBx"
      },
      "source": [
        "#### Черновики"
      ]
    },
    {
      "cell_type": "code",
      "metadata": {
        "id": "YgqAhwBDubzR"
      },
      "source": [
        "def select_columns(df) -> Tuple[List[str], List[str]]:\r\n",
        "    \"\"\"\r\n",
        "    По количеству уникальных значений в колонке\r\n",
        "    функция отбирает какие колонки закодировать one-hot,\r\n",
        "    а какие нужно векторизовать.\r\n",
        "    Возвращает 2 списка названий колонок: для one-hot и для векторизации\r\n",
        "    \"\"\"\r\n",
        "    one_hot_columns = []\r\n",
        "    vect_columns = []\r\n",
        "    unique_value_threshold = df.shape[0] * 0.01\r\n",
        "\r\n",
        "    for column in df.columns:\r\n",
        "        if type(df[column][0]) is str:\r\n",
        "            if df[column].unique().shape[0] < unique_value_threshold:\r\n",
        "                one_hot_columns.append(column)\r\n",
        "            else:\r\n",
        "                vect_columns.append(column)\r\n",
        "\r\n",
        "    return one_hot_columns, vect_columns\r\n",
        "\r\n",
        "\r\n",
        "\r\n",
        "one_hot_columns, vect_columns = select_columns(df)"
      ],
      "execution_count": 6,
      "outputs": []
    },
    {
      "cell_type": "code",
      "metadata": {
        "id": "37_zK-kIOm0e"
      },
      "source": [
        "def apply_vectorizer() -> pd.DataFrame:\r\n",
        "    \"\"\"\r\n",
        "    применяет к отфильтрованным колонкам векторизацию\r\n",
        "    и возвращает датафрейм\r\n",
        "    \"\"\"\r\n",
        "    concatenated_columns = df[vect_columns[0]]\r\n",
        "    for column in vect_columns[1:]:\r\n",
        "        concatenated_columns = concatenated_columns + \" \" + df[column]\r\n",
        "\r\n",
        "    vect = CountVectorizer()\r\n",
        "    values = vect.fit_transform(concatenated_columns).toarray()\r\n",
        "    return pd.DataFrame(values, columns=vect.get_feature_names())"
      ],
      "execution_count": null,
      "outputs": []
    },
    {
      "cell_type": "code",
      "metadata": {
        "id": "4tCqGB-kAAlG"
      },
      "source": [
        "def apply_one_hot() -> pd.DataFrame:\r\n",
        "    \"\"\"\r\n",
        "    применяет к отфильтрованным колонкам one-hot кодирование\r\n",
        "    и возвращает датафрейм\r\n",
        "    \"\"\"\r\n",
        "    encoder = OneHotEncoder(sparse=False)\r\n",
        "    values = encoder.fit_transform(df[one_hot_columns])\r\n",
        "    return pd.DataFrame(values, columns=encoder.get_feature_names())"
      ],
      "execution_count": 8,
      "outputs": []
    },
    {
      "cell_type": "markdown",
      "metadata": {
        "id": "iO8OhGjpcX9Z"
      },
      "source": [
        "#### Класс"
      ]
    },
    {
      "cell_type": "code",
      "metadata": {
        "colab": {
          "base_uri": "https://localhost:8080/"
        },
        "id": "tRtTn1NqrKn6",
        "outputId": "c1a4e0d0-a527-4797-82fb-22e49c31e312"
      },
      "source": [
        "import gensim\r\n",
        "fast_text_model = gensim.models.KeyedVectors.load('araneum_none_fasttextcbow_300_5_2018.model')"
      ],
      "execution_count": 77,
      "outputs": [
        {
          "output_type": "execute_result",
          "data": {
            "text/plain": [
              "True"
            ]
          },
          "metadata": {
            "tags": []
          },
          "execution_count": 77
        }
      ]
    },
    {
      "cell_type": "code",
      "metadata": {
        "id": "vynX5_hMPLWs"
      },
      "source": [
        "class DFWrapper:\r\n",
        "    def __init__(self, df: pd.DataFrame, target: str, tfidf=False, fasttext=False) -> None:\r\n",
        "        \"\"\"\r\n",
        "        Принимает датафрейм, где все колонки содержат или числа, или строки, \r\n",
        "        таргет, который будет использован для классификации\r\n",
        "        \"\"\"\r\n",
        "        self.df = df.drop(target, axis=1)\r\n",
        "        self.target = df[target]\r\n",
        "        if not tfidf and not fasttext:\r\n",
        "            self.vectorizer = CountVectorizer\r\n",
        "        elif tfidf:\r\n",
        "            self.vectorizer = TfidfVectorizer\r\n",
        "        elif fasttext:\r\n",
        "            self.vectorizer = \"fasttext\"\r\n",
        "        self.__modify_df()\r\n",
        "\r\n",
        "    @property\r\n",
        "    def features(self) -> pd.DataFrame:\r\n",
        "        \"\"\"\r\n",
        "        Возвращает подготовленный к классификации датафрейм,\r\n",
        "        где строковые колонки или закодированы one-hot, или векторизованы\r\n",
        "        \"\"\"\r\n",
        "        return self.df\r\n",
        "\r\n",
        "    def fit(self, model):\r\n",
        "        \"\"\"\r\n",
        "        Обучение модели\r\n",
        "        \"\"\"\r\n",
        "        m = model()\r\n",
        "        m.fit(self.df, self.target)\r\n",
        "        return m\r\n",
        "\r\n",
        "    def __select_columns(self) -> Tuple[List[str], List[str]]:\r\n",
        "        \"\"\"\r\n",
        "        По количеству уникальных значений в колонке\r\n",
        "        функция отбирает какие колонки закодировать one-hot,\r\n",
        "        а какие нужно векторизовать.\r\n",
        "        Возвращает 2 списка названий колонок: для one-hot и для векторизации\r\n",
        "        \"\"\"\r\n",
        "        one_hot_columns = []\r\n",
        "        vect_columns = []\r\n",
        "        unique_value_threshold = self.df.shape[0] * 0.01\r\n",
        "\r\n",
        "        for column in self.df.columns:\r\n",
        "            if type(self.df[column][0]) is str:\r\n",
        "                if self.df[column].unique().shape[0] < unique_value_threshold:\r\n",
        "                    one_hot_columns.append(column)\r\n",
        "                else:\r\n",
        "                    vect_columns.append(column)\r\n",
        "        return one_hot_columns, vect_columns\r\n",
        "\r\n",
        "    def __apply_one_hot(self, one_hot_columns: List[str]) -> pd.DataFrame:\r\n",
        "        \"\"\"\r\n",
        "        Принимает список названий колонок и применяет к ним one-hot кодирование.\r\n",
        "        Возвращает датафрейм\r\n",
        "        \"\"\"\r\n",
        "        encoder = OneHotEncoder(sparse=False)\r\n",
        "        values = encoder.fit_transform(self.df[one_hot_columns])\r\n",
        "        return pd.DataFrame(values, columns=encoder.get_feature_names())\r\n",
        "\r\n",
        "    def __apply_vectorizer(self, vect_columns: List[str]) -> pd.DataFrame:\r\n",
        "        \"\"\"\r\n",
        "        Принимает список названий колонок и применяет к ним векторизацию.\r\n",
        "        Возвращает датафрейм\r\n",
        "        \"\"\"\r\n",
        "        concatenated_columns = self.df[vect_columns[0]]\r\n",
        "        for column in vect_columns[1:]:\r\n",
        "            concatenated_columns = concatenated_columns + \" \" + self.df[column]\r\n",
        "\r\n",
        "        vect = self.vectorizer()\r\n",
        "        values = vect.fit_transform(concatenated_columns).toarray()\r\n",
        "        return pd.DataFrame(values, columns=vect.get_feature_names())\r\n",
        "\r\n",
        "    def __make_embeddings(self, string: str) -> np.array:\r\n",
        "        \"\"\"\r\n",
        "        Принимает строку и возвращает усредненный вектор эмбеддинга фасттекста\r\n",
        "        \"\"\"\r\n",
        "        res = []\r\n",
        "        # конечно нужно бы токенизировать по-хорошему\r\n",
        "        for word in string.split():\r\n",
        "            try:\r\n",
        "                res.append(fast_text_model.word_vec(word))\r\n",
        "            except AttributeError:\r\n",
        "                continue\r\n",
        "        return np.array(res).mean(axis=0)\r\n",
        "\r\n",
        "    def __apply_fasttext(self, vect_columns: List[str]) -> None:\r\n",
        "        \"\"\"\r\n",
        "        Принимает список названий колонок и переводит их в эмбеддинги фасттекста.\r\n",
        "        \"\"\"\r\n",
        "        for column in vect_columns:\r\n",
        "            self.df[column] = self.df[column].apply(self.__make_embeddings)\r\n",
        "\r\n",
        "    def __modify_df(self) -> None:\r\n",
        "      \"\"\"\r\n",
        "      Применяет к исходному датафрейму one-hot кодирование и векторизацию.\r\n",
        "      \"\"\"\r\n",
        "      one_hot_columns, vect_columns = self.__select_columns()\r\n",
        "      one_hot_df = self.__apply_one_hot(one_hot_columns)\r\n",
        "      if self.vectorizer != \"fasttext\":\r\n",
        "          vectorized_df = self.__apply_vectorizer(vect_columns)\r\n",
        "          self.df = pd.concat((self.df, one_hot_df, vectorized_df), axis=1)\r\n",
        "          self.df.drop(one_hot_columns + vect_columns, axis=1, inplace=True)\r\n",
        "      else:\r\n",
        "          self.__apply_fasttext(vect_columns)\r\n",
        "          self.df = pd.concat((self.df, one_hot_df), axis=1)\r\n",
        "          self.df.drop(one_hot_columns, axis=1, inplace=True)"
      ],
      "execution_count": 87,
      "outputs": []
    },
    {
      "cell_type": "code",
      "metadata": {
        "colab": {
          "base_uri": "https://localhost:8080/"
        },
        "id": "32OFARQsYUo0",
        "outputId": "abb5c7fa-09f0-47de-a563-621d711983e2"
      },
      "source": [
        "new_df = DFWrapper(df.head(1000), \"Genre\", tfidf=False, fasttext=True)"
      ],
      "execution_count": 88,
      "outputs": [
        {
          "output_type": "stream",
          "text": [
            "/usr/local/lib/python3.7/dist-packages/ipykernel_launcher.py:83: RuntimeWarning: Mean of empty slice.\n"
          ],
          "name": "stderr"
        }
      ]
    }
  ]
}